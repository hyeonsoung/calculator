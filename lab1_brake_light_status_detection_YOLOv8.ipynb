{
  "cells": [
    {
      "cell_type": "markdown",
      "metadata": {
        "id": "view-in-github",
        "colab_type": "text"
      },
      "source": [
        "<a href=\"https://colab.research.google.com/github/hyeonsoung/calculator/blob/main/lab1_brake_light_status_detection_YOLOv8.ipynb\" target=\"_parent\"><img src=\"https://colab.research.google.com/assets/colab-badge.svg\" alt=\"Open In Colab\"/></a>"
      ]
    },
    {
      "cell_type": "markdown",
      "metadata": {
        "id": "9l1KOEVQWsSQ"
      },
      "source": [
        "# 빅데이터및AI (1324201-01) 실습  "
      ]
    },
    {
      "cell_type": "markdown",
      "metadata": {
        "id": "wADdIitqj7ri"
      },
      "source": [
        "## YOLOv8을 활용한 전방차량 및 브레이크 등 상태 탐지  \n",
        "#### 객체 탐지(Object Detection) 목적으로 학습된 YOLOv8 모델을 활용하여 전방차량 및 해당 차량의 브레이크 등 상태를 탐지하는 인공지능 모델 학습 실습  \n",
        "#### [**참고 영상**](https://www.dropbox.com/s/l91e0fjazbww4af/brake_light_detection_demo.mp4)\n"
      ]
    },
    {
      "cell_type": "markdown",
      "metadata": {
        "id": "Wj34c_5piJJI"
      },
      "source": [
        "## 데이터셋 다운로드  \n",
        "\n",
        "#### 공개 데이터셋 사이트 방문, (회원가입 및 )로그인 후 조교의 안내에 따라 아래 코드를 완성하여 데이터셋 다운로드 가능  \n",
        "#### [**공개 데이터셋 링크**](https://universe.roboflow.com/kookmin-university-glfyz/state-of-vehicle-tail-lamp-detection)\n"
      ]
    },
    {
      "cell_type": "code",
      "execution_count": null,
      "metadata": {
        "id": "TBH8cWS_Z2U-"
      },
      "outputs": [],
      "source": [
        "!pip install -q roboflow\n",
        "\n",
        "API_KEY = 'r1bWDmiR4uDeSlI2ytaD'\n",
        "\n",
        "from roboflow import Roboflow\n",
        "rf = Roboflow(api_key=f\"{API_KEY}\")\n",
        "project = rf.workspace(\"kookmin-university-glfyz\").project(\"state-of-vehicle-tail-lamp-detection\")\n",
        "dataset = project.version(2).download(\"yolov8\")"
      ]
    },
    {
      "cell_type": "code",
      "execution_count": null,
      "metadata": {
        "id": "ycOJRZi1rqqH"
      },
      "outputs": [],
      "source": [
        "# 다운로드된 데이터셋 위치 이동\n",
        "!mkdir datasets     # datasets 폴더 생성\n",
        "!mv ./State-of-vehicle-tail-lamp-detection-2/ ./datasets/State-of-vehicle-tail-lamp-detection-2/    # 공개데이터셋 이동\n",
        "!mv ./datasets/State-of-vehicle-tail-lamp-detection-2/data.yaml ./data.yaml             # 데이터셋 설정 파일 이동\n",
        "!wget -O data.yaml https://www.dropbox.com/scl/fi/70tikgw5bzmlhpytz22mx/data.yaml?rlkey=v0w68v5dcu7i5ecoskwufa0kd&dl=0  # Train용 데이터셋 설정 파일 다운로드\n",
        "!wget -O data_test.yaml https://www.dropbox.com/scl/fi/xyd8hyduo7ixbh7i8gys0/data_test.yaml?rlkey=rzsp5diditahj3rx3udcmq3d5&dl=0 # Test용 데이터셋 설정 파일 다운로드"
      ]
    },
    {
      "cell_type": "markdown",
      "metadata": {
        "id": "i0bhuLS1n2X9"
      },
      "source": [
        "## 탐색적 자료 분석(EDA)"
      ]
    },
    {
      "cell_type": "code",
      "source": [
        "import os\n",
        "\n",
        "# Check current path position\n",
        "cur_path = os.getcwd()\n",
        "print(cur_path)\n",
        "\n",
        "# Check folder and file list under current path position\n",
        "print(os.listdir(cur_path))"
      ],
      "metadata": {
        "id": "NAd_3lWakLBd"
      },
      "execution_count": null,
      "outputs": []
    },
    {
      "cell_type": "markdown",
      "metadata": {
        "id": "3awMPmXt4ys9"
      },
      "source": [
        "### yaml 파일 확인"
      ]
    },
    {
      "cell_type": "code",
      "source": [
        "import yaml\n",
        "\n",
        "yaml_path = os.path.join(cur_path, 'data.yaml')\n",
        "with open(yaml_path) as f:\n",
        "    data_info = yaml.load(f, Loader=yaml.FullLoader)\n",
        "\n",
        "for key, item in data_info.items():\n",
        "    print(key, ':', item)"
      ],
      "metadata": {
        "id": "IKIdqAQ_6XwF"
      },
      "execution_count": null,
      "outputs": []
    },
    {
      "cell_type": "code",
      "source": [
        "test_yaml_path = os.path.join(cur_path, 'data_test.yaml')\n",
        "\n",
        "with open(test_yaml_path) as f:\n",
        "    test_data_info = yaml.load(f, Loader=yaml.FullLoader)\n",
        "\n",
        "for key, item in test_data_info.items():\n",
        "    print(key, ':', item)"
      ],
      "metadata": {
        "id": "rL_G_4IR645l"
      },
      "execution_count": null,
      "outputs": []
    },
    {
      "cell_type": "markdown",
      "source": [
        "### 입,출력 데이터 확인"
      ],
      "metadata": {
        "id": "L7scr56m7-RL"
      }
    },
    {
      "cell_type": "code",
      "source": [
        "# Define the base position of data\n",
        "DATA_DIR = os.path.join(cur_path, 'datasets', 'State-of-vehicle-tail-lamp-detection-2')\n",
        "print(os.listdir(DATA_DIR))"
      ],
      "metadata": {
        "id": "oNkdW4tKkc4_"
      },
      "execution_count": null,
      "outputs": []
    },
    {
      "cell_type": "code",
      "source": [
        "# Define the position of train, validation, and test data\n",
        "TRAIN_DIR = os.path.join(DATA_DIR, 'train')\n",
        "VAL_DIR = os.path.join(DATA_DIR, 'valid')\n",
        "TEST_DIR = os.path.join(DATA_DIR, 'test')\n",
        "\n",
        "print(\"Train Folder: \", os.listdir(TRAIN_DIR))\n",
        "print(\"Vaidation Folder: \", os.listdir(VAL_DIR))\n",
        "print(\"Test Folder: \", os.listdir(TEST_DIR))"
      ],
      "metadata": {
        "id": "zexdM2RPklq5"
      },
      "execution_count": null,
      "outputs": []
    },
    {
      "cell_type": "code",
      "source": [
        "# Check the train image\n",
        "TRAIN_IMG_DIR = os.path.join(TRAIN_DIR, 'images')\n",
        "os.listdir(TRAIN_IMG_DIR)[:2]"
      ],
      "metadata": {
        "id": "VGKJzbeNk6fy"
      },
      "execution_count": null,
      "outputs": []
    },
    {
      "cell_type": "code",
      "source": [
        "from IPython import display\n",
        "\n",
        "# Show the train image\n",
        "# img_file = os.listdir(TRAIN_IMG_DIR)[0]\n",
        "sample_img_file = 'qyDn2S51_jpg.rf.fe33a97cd3c8cda330bc13db135f84da.jpg'\n",
        "img_file_path = os.path.join(TRAIN_IMG_DIR, sample_img_file)\n",
        "print(img_file_path)\n",
        "display.Image(os.path.join(TRAIN_IMG_DIR, sample_img_file), width=500)"
      ],
      "metadata": {
        "id": "YBOFuDZlk6iX"
      },
      "execution_count": null,
      "outputs": []
    },
    {
      "cell_type": "code",
      "source": [
        "# Check the train label\n",
        "TRAIN_LB_DIR = os.path.join(TRAIN_DIR, 'labels')\n",
        "os.listdir(TRAIN_LB_DIR)[:2]"
      ],
      "metadata": {
        "id": "mEfUqrb1k6k_"
      },
      "execution_count": null,
      "outputs": []
    },
    {
      "cell_type": "code",
      "source": [
        "# Show the train label\n",
        "file_name = os.path.splitext(sample_img_file)[0]\n",
        "label_file = file_name+'.txt'\n",
        "label_file_path = os.path.join(TRAIN_LB_DIR, label_file)\n",
        "print(label_file_path)"
      ],
      "metadata": {
        "id": "ZaYOfooPnfX8"
      },
      "execution_count": null,
      "outputs": []
    },
    {
      "cell_type": "code",
      "source": [
        "with open(label_file_path, 'r') as f:\n",
        "    contents = f.readlines()\n",
        "contents"
      ],
      "metadata": {
        "id": "tCqKxYTUnfda"
      },
      "execution_count": null,
      "outputs": []
    },
    {
      "cell_type": "code",
      "source": [
        "def get_label_info(contents):\n",
        "    '''label(.txt) 정보를 한줄 씩 읽어온 리스트를 입력받아 상세 정보를 분할하여 출력하는 함수\n",
        "    입력: contents (list), label(.txt) 파일을 readlines를 통해 얻은 리스트 형태의 정보\n",
        "    출력: info (list), contents 각 줄에 담겨있는 정보를 (class, x, y, w, h)의 튜플형태로 분할하여 순차적으로 축적시킨 리스트\n",
        "    '''\n",
        "\n",
        "    info = []\n",
        "    ##### ▽ 코드 작성 ▽ #####\n",
        "\n",
        "    info = list(line.split() for line in contents)\n",
        "    for i in range(len(contents)):\n",
        "        for j in range(5):\n",
        "            info[i][j] = float(info[i][j])\n",
        "        info[i] = tuple(info[i])\n",
        "    info = tuple(info)\n",
        "\n",
        "    ##### △ 코드 작성 △ #####\n",
        "\n",
        "    return info"
      ],
      "metadata": {
        "id": "kOhs7Q4KtEep"
      },
      "execution_count": null,
      "outputs": []
    },
    {
      "cell_type": "code",
      "source": [
        "print(\"(Class, x_corrdinate, y_corrdinate, width, height\", end='\\n\\n')\n",
        "\n",
        "get_label_info(contents)"
      ],
      "metadata": {
        "id": "iE_50y18urfe"
      },
      "execution_count": null,
      "outputs": []
    },
    {
      "cell_type": "markdown",
      "source": [
        "### **Reporting Point**\n",
        "* Train, Validation, Test Image 개수\n",
        "* Train **vs** Validation & Test Image 차이점 기술\n",
        "* Train, Validation, Test Label 개수\n",
        "* Train, Validation, Test Label 중 Class 개수\n",
        "* (Optional) EDA를 통해 얻은 직관 및 데이터셋의 대한 고찰"
      ],
      "metadata": {
        "id": "YRimgi2WwI7w"
      }
    },
    {
      "cell_type": "markdown",
      "source": [
        "## Label 시각화"
      ],
      "metadata": {
        "id": "8vzF_iS3xPqN"
      }
    },
    {
      "cell_type": "code",
      "source": [
        "from google.colab import drive\n",
        "drive.mount('/content/drive')"
      ],
      "metadata": {
        "id": "E-NgNMxjObw6"
      },
      "execution_count": null,
      "outputs": []
    },
    {
      "cell_type": "markdown",
      "source": [
        "#### **Reporting Point**\n",
        "* Image 위에 Label 정보 시각화\n",
        "* Class 별 서로 다른 색상으로 정확한 Bounding Box 그리기\n",
        "* 최소 3장 이상의 그림을 레포트에 포함시킬 것\n",
        "* 필요 시 아래 `draw_bbox_train` 함수 참조"
      ],
      "metadata": {
        "id": "A_MOSwkA5Tpu"
      }
    },
    {
      "cell_type": "code",
      "source": [
        "import cv2\n",
        "from google.colab.patches import cv2_imshow\n",
        "\n",
        "def draw_bbox_train(img_file):\n",
        "    '''이미지 파일명을 입력 받아 해당 이미지의 label(.txt) 정보를 바운딩박스 형태로 이미지 위에 시각화하여 보여주는 함수\n",
        "    클래스 별 바운딩박스의 태두리 색상을 다르게 할 것\n",
        "    입력: img_file (str), 이미지 파일명 (확장자 포함)\n",
        "    출력: None\n",
        "    '''\n",
        "\n",
        "    ##### ▽ 코드 작성 ▽ #####\n",
        "    colors = [(255, 0, 0), (0, 0, 255)]\n",
        "    tickness = 5\n",
        "\n",
        "    img_path = os.path.join(TRAIN_IMG_DIR, img_file)\n",
        "    img = cv2.imread(img_path)\n",
        "    img_width, img_height = img.shape[0],img.shape[1]\n",
        "\n",
        "    file_name = os.path.splitext(img_file)[0]\n",
        "    label_file = file_name+'.txt'\n",
        "    label_file_path = os.path.join(TRAIN_LB_DIR, label_file)\n",
        "\n",
        "    with open(label_file_path, 'r') as f:\n",
        "        contents = f.readlines()\n",
        "        label_info = get_label_info(contents)\n",
        "\n",
        "    for box in label_info:\n",
        "\n",
        "        class_idx = int(box[0])\n",
        "        x, y, w, h = box[1],box[2],box[3],box[4]\n",
        "\n",
        "        left = int((x-(w/2))*img_width)\n",
        "        top = int((y+(h/2))*img_height)\n",
        "        width = int(w*img_width)\n",
        "        height = int(h*img_height)\n",
        "\n",
        "        cv2.rectangle(img, (left, top), (left+width, top - height), colors[class_idx], tickness)\n",
        "\n",
        "    cv2_imshow(img)\n",
        "    ##### △ 코드 작성 △ #####\n",
        "\n",
        "\n",
        "draw_bbox_train(sample_img_file)"
      ],
      "metadata": {
        "id": "YZxPw6WLyRoX"
      },
      "execution_count": null,
      "outputs": []
    },
    {
      "cell_type": "code",
      "source": [
        "import random\n",
        "random_img_file = random.choice(os.listdir(TRAIN_IMG_DIR))\n",
        "draw_bbox_train(random_img_file)"
      ],
      "metadata": {
        "id": "hUFmgl6K4TDJ"
      },
      "execution_count": null,
      "outputs": []
    },
    {
      "cell_type": "markdown",
      "metadata": {
        "id": "0sqX_3YUdUMM"
      },
      "source": [
        "## 인공신경망 학습\n",
        "### 저장경로 설정"
      ]
    },
    {
      "cell_type": "code",
      "execution_count": null,
      "metadata": {
        "id": "TmYVTEqzamB2"
      },
      "outputs": [],
      "source": [
        "# 학습결과 저장을 위해 구글 드라이브 연동\n",
        "from google.colab import drive\n",
        "drive.mount('/content/drive')"
      ]
    },
    {
      "cell_type": "code",
      "execution_count": null,
      "metadata": {
        "id": "AQCyBQlQby_V"
      },
      "outputs": [],
      "source": [
        "print(os.getcwd())  # 현재위치 확인"
      ]
    },
    {
      "cell_type": "code",
      "execution_count": null,
      "metadata": {
        "id": "4FKN2EtRbN_C"
      },
      "outputs": [],
      "source": [
        "BASE_PATH = os.path.join(os.getcwd(), 'drive', 'MyDrive', 'bigdata-ai-2023')\n",
        "\n",
        "if not os.path.isdir(BASE_PATH):\n",
        "    os.makedirs(BASE_PATH)  # 기본폴더가 없으면 생성\n",
        "\n",
        "%cd drive/MyDrive/bigdata-ai-2023"
      ]
    },
    {
      "cell_type": "markdown",
      "metadata": {
        "id": "w8G0g_QWoctp"
      },
      "source": [
        "### YOLOv8  \n",
        "[YOLOv8 상세 문서](https://docs.ultralytics.com/)\n"
      ]
    },
    {
      "cell_type": "code",
      "execution_count": null,
      "metadata": {
        "id": "XAUljKosocTb"
      },
      "outputs": [],
      "source": [
        "!pip install -q ultralytics\n",
        "import ultralytics\n",
        "ultralytics.checks()"
      ]
    },
    {
      "cell_type": "code",
      "execution_count": null,
      "metadata": {
        "id": "zvLH2_7WrASi"
      },
      "outputs": [],
      "source": [
        "# YOLOv8 객체탐지 예시\n",
        "!yolo predict model=yolov8n.pt source='https://ultralytics.com/images/zidane.jpg'"
      ]
    },
    {
      "cell_type": "markdown",
      "metadata": {
        "id": "D-2NUw5AaMeF"
      },
      "source": [
        "### 전이학습\n"
      ]
    },
    {
      "cell_type": "code",
      "execution_count": null,
      "metadata": {
        "id": "FzJFq08no4sK"
      },
      "outputs": [],
      "source": [
        "from ultralytics import YOLO\n",
        "\n",
        "# Load a pretrained model\n",
        "model = YOLO('yolov8m.pt')\n",
        "\n",
        "# Train the model\n",
        "## you can customize the hyperparameters...\n",
        "num_epoch = 20\n",
        "num_patience = 50\n",
        "input_size = 320\n",
        "batch_size = 64\n",
        "\n",
        "results = model.train(data=\"/content/data.yaml\",\n",
        "                      epochs=num_epoch,\n",
        "                      patience=num_patience,\n",
        "                      imgsz=input_size,\n",
        "                      batch=batch_size,\n",
        "                      )"
      ]
    },
    {
      "cell_type": "code",
      "execution_count": null,
      "metadata": {
        "id": "PaJHS9xfqEFJ"
      },
      "outputs": [],
      "source": [
        "path_pt = \"./runs/detect/train/weights/best.pt\"\n",
        "model = YOLO(f\"{path_pt}\")  # load a custom model\n",
        "\n",
        "# Validate the model\n",
        "val_metrics = model.val(data=\"/content/data.yaml\")  # no arguments needed, dataset and settings remembered"
      ]
    },
    {
      "cell_type": "code",
      "execution_count": null,
      "metadata": {
        "id": "I5UeZKe7dayZ"
      },
      "outputs": [],
      "source": [
        "test_metrics = model.val(data=\"/content/data_test.yaml\")  # no arguments needed, dataset and settings remembered"
      ]
    },
    {
      "cell_type": "code",
      "source": [
        "print(f\"mAP50: {test_metrics.box.map50}\")\n",
        "print(f\"preprocess time: {test_metrics.speed['preprocess']}\")\n",
        "print(f\"inference time: {test_metrics.speed['inference']}\")\n",
        "print(f\"postprocess time: {test_metrics.speed['postprocess']}\")"
      ],
      "metadata": {
        "id": "oC6T3kPS88JM"
      },
      "execution_count": null,
      "outputs": []
    },
    {
      "cell_type": "markdown",
      "source": [
        "### **Reporting Point**\n",
        "* mAP50에 대하여 기술\n",
        "* 최소 3개 이상의 서로 다른 모델 학습\n",
        "* 3개 이상의 학습 모델의 Accuracy - Speed 트레이드오프 그래프 그리기\n"
      ],
      "metadata": {
        "id": "_w96I5hJ9B2H"
      }
    },
    {
      "cell_type": "code",
      "source": [
        "import matplotlib.pyplot as plt\n"
      ],
      "metadata": {
        "id": "R7e6i7g1DEDc"
      },
      "execution_count": null,
      "outputs": []
    }
  ],
  "metadata": {
    "accelerator": "GPU",
    "colab": {
      "gpuType": "T4",
      "provenance": [],
      "private_outputs": true,
      "include_colab_link": true
    },
    "kernelspec": {
      "display_name": "Python 3",
      "name": "python3"
    },
    "language_info": {
      "name": "python"
    }
  },
  "nbformat": 4,
  "nbformat_minor": 0
}